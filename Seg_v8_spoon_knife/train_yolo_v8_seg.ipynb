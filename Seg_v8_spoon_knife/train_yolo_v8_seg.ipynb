{
 "cells": [
  {
   "cell_type": "code",
   "execution_count": null,
   "id": "a576192b-2437-4e1a-8165-560cf35b0c01",
   "metadata": {},
   "outputs": [],
   "source": [
    "!nvidia-smi  # проверка cuda"
   ]
  },
  {
   "cell_type": "code",
   "execution_count": null,
   "id": "3a5b32a2-6bb6-47c8-b338-1c1d04a93667",
   "metadata": {},
   "outputs": [],
   "source": [
    "# %pip install ultralytics"
   ]
  },
  {
   "cell_type": "markdown",
   "id": "7378f7c8",
   "metadata": {},
   "source": [
    "Формат датасета для YOLO_V8:\n",
    "1) Создаем размеченный датасет через CVAT (docker развертывание)\n",
    "2) Через скрипт COCO_to_YOLO прогоняем его для создания датасета нужного формата.\n",
    "\n",
    "--------\n",
    "\n",
    "Сайт с описанием обучения.  \n",
    "https://docs.ultralytics.com/tasks/segment/#train"
   ]
  },
  {
   "cell_type": "code",
   "execution_count": null,
   "id": "7a77d5a2-c336-475d-a46b-64916e3da48b",
   "metadata": {},
   "outputs": [],
   "source": [
    "from ultralytics import YOLO\n",
    "\n",
    "# Load a model\n",
    "model = YOLO('yolov8s-seg.pt')  # load a pretrained model (recommended for training)\n",
    "\n",
    "# Train the model (Прописать полный путь)\n",
    "results = model.train(data='/****/Seg_v8_spoon_knife/YOLO_dataset/data.yaml', epochs=200, imgsz=640, batch=16)"
   ]
  },
  {
   "cell_type": "code",
   "execution_count": null,
   "id": "b37b1dcf-cf2c-4bcc-aa8d-2e43bea83eea",
   "metadata": {},
   "outputs": [],
   "source": []
  }
 ],
 "metadata": {
  "kernelspec": {
   "display_name": "Python 3 (ipykernel)",
   "language": "python",
   "name": "python3"
  },
  "language_info": {
   "codemirror_mode": {
    "name": "ipython",
    "version": 3
   },
   "file_extension": ".py",
   "mimetype": "text/x-python",
   "name": "python",
   "nbconvert_exporter": "python",
   "pygments_lexer": "ipython3",
   "version": "3.9.13"
  }
 },
 "nbformat": 4,
 "nbformat_minor": 5
}
